{
 "cells": [
  {
   "cell_type": "code",
   "execution_count": 215,
   "metadata": {},
   "outputs": [
    {
     "data": {
      "text/html": [
       "<style>.container {width:90% !important;}</style>"
      ],
      "text/plain": [
       "<IPython.core.display.HTML object>"
      ]
     },
     "metadata": {},
     "output_type": "display_data"
    }
   ],
   "source": [
    "from IPython.core.display import display, HTML\n",
    "display(HTML(\"<style>.container {width:90% !important;}</style>\"))\n",
    "import numpy as np\n",
    "import datetime\n",
    "from datetime import datetime, timedelta\n",
    "import seaborn as sns\n",
    "import matplotlib.pyplot as plt \n",
    "import pandas as pd\n",
    "import matplotlib.ticker as ticker\n",
    "\n",
    "#from scipy import stats\n",
    "\n",
    "import plotly.graph_objects as go\n",
    "#sns.set_context('paper', font_scale=1.4)"
   ]
  },
  {
   "cell_type": "code",
   "execution_count": 288,
   "metadata": {},
   "outputs": [],
   "source": [
    "df = pd.read_csv('data.csv',\n",
    "                          parse_dates=['dateRep'])\n",
    "\n",
    "continents = ['Africa', 'America', 'Asia', 'Oceania', 'Europe']\n",
    "\n",
    "df = df.rename(columns = {\"dateRep\": \"date\"})\n",
    "df = df.rename(columns = {\"continentExp\": \"continent\"})\n",
    "df = df.rename(columns = {\"countriesAndTerritories\": \"country\"})\n",
    "\n",
    "df = df.drop(columns=['geoId', 'countryterritoryCode', 'day', 'month', 'year'])\n",
    "\n",
    "\n",
    "df.set_index('date', inplace=True)\n"
   ]
  },
  {
   "cell_type": "code",
   "execution_count": 289,
   "metadata": {},
   "outputs": [
    {
     "data": {
      "text/plain": [
       "cases            int64\n",
       "deaths           int64\n",
       "country         object\n",
       "popData2018    float64\n",
       "continent       object\n",
       "dtype: object"
      ]
     },
     "execution_count": 289,
     "metadata": {},
     "output_type": "execute_result"
    }
   ],
   "source": [
    "df.dtypes"
   ]
  },
  {
   "cell_type": "code",
   "execution_count": 290,
   "metadata": {},
   "outputs": [
    {
     "data": {
      "text/html": [
       "<div>\n",
       "<style scoped>\n",
       "    .dataframe tbody tr th:only-of-type {\n",
       "        vertical-align: middle;\n",
       "    }\n",
       "\n",
       "    .dataframe tbody tr th {\n",
       "        vertical-align: top;\n",
       "    }\n",
       "\n",
       "    .dataframe thead th {\n",
       "        text-align: right;\n",
       "    }\n",
       "</style>\n",
       "<table border=\"1\" class=\"dataframe\">\n",
       "  <thead>\n",
       "    <tr style=\"text-align: right;\">\n",
       "      <th></th>\n",
       "      <th>cases</th>\n",
       "      <th>deaths</th>\n",
       "      <th>country</th>\n",
       "      <th>popData2018</th>\n",
       "      <th>continent</th>\n",
       "    </tr>\n",
       "    <tr>\n",
       "      <th>date</th>\n",
       "      <th></th>\n",
       "      <th></th>\n",
       "      <th></th>\n",
       "      <th></th>\n",
       "      <th></th>\n",
       "    </tr>\n",
       "  </thead>\n",
       "  <tbody>\n",
       "    <tr>\n",
       "      <th>2020-01-27</th>\n",
       "      <td>0</td>\n",
       "      <td>0</td>\n",
       "      <td>Australia</td>\n",
       "      <td>2.499237e+07</td>\n",
       "      <td>Oceania</td>\n",
       "    </tr>\n",
       "    <tr>\n",
       "      <th>2020-10-05</th>\n",
       "      <td>1268</td>\n",
       "      <td>124</td>\n",
       "      <td>Canada</td>\n",
       "      <td>3.705886e+07</td>\n",
       "      <td>America</td>\n",
       "    </tr>\n",
       "    <tr>\n",
       "      <th>2020-02-16</th>\n",
       "      <td>0</td>\n",
       "      <td>0</td>\n",
       "      <td>North_Macedonia</td>\n",
       "      <td>2.082958e+06</td>\n",
       "      <td>Europe</td>\n",
       "    </tr>\n",
       "    <tr>\n",
       "      <th>2020-10-02</th>\n",
       "      <td>2974</td>\n",
       "      <td>97</td>\n",
       "      <td>China</td>\n",
       "      <td>1.392730e+09</td>\n",
       "      <td>Asia</td>\n",
       "    </tr>\n",
       "    <tr>\n",
       "      <th>2020-05-20</th>\n",
       "      <td>0</td>\n",
       "      <td>0</td>\n",
       "      <td>Vietnam</td>\n",
       "      <td>9.554040e+07</td>\n",
       "      <td>Asia</td>\n",
       "    </tr>\n",
       "  </tbody>\n",
       "</table>\n",
       "</div>"
      ],
      "text/plain": [
       "            cases  deaths          country   popData2018 continent\n",
       "date                                                              \n",
       "2020-01-27      0       0        Australia  2.499237e+07   Oceania\n",
       "2020-10-05   1268     124           Canada  3.705886e+07   America\n",
       "2020-02-16      0       0  North_Macedonia  2.082958e+06    Europe\n",
       "2020-10-02   2974      97            China  1.392730e+09      Asia\n",
       "2020-05-20      0       0          Vietnam  9.554040e+07      Asia"
      ]
     },
     "execution_count": 290,
     "metadata": {},
     "output_type": "execute_result"
    }
   ],
   "source": [
    "df.sample(5)"
   ]
  },
  {
   "cell_type": "code",
   "execution_count": 291,
   "metadata": {},
   "outputs": [
    {
     "data": {
      "text/plain": [
       "Index(['cases', 'deaths', 'country', 'popData2018', 'continent'], dtype='object')"
      ]
     },
     "execution_count": 291,
     "metadata": {},
     "output_type": "execute_result"
    }
   ],
   "source": [
    "df.columns"
   ]
  },
  {
   "cell_type": "code",
   "execution_count": 292,
   "metadata": {
    "scrolled": true
   },
   "outputs": [
    {
     "data": {
      "text/html": [
       "<div>\n",
       "<style scoped>\n",
       "    .dataframe tbody tr th:only-of-type {\n",
       "        vertical-align: middle;\n",
       "    }\n",
       "\n",
       "    .dataframe tbody tr th {\n",
       "        vertical-align: top;\n",
       "    }\n",
       "\n",
       "    .dataframe thead th {\n",
       "        text-align: right;\n",
       "    }\n",
       "</style>\n",
       "<table border=\"1\" class=\"dataframe\">\n",
       "  <thead>\n",
       "    <tr style=\"text-align: right;\">\n",
       "      <th></th>\n",
       "      <th>cases</th>\n",
       "      <th>deaths</th>\n",
       "      <th>popData2018</th>\n",
       "    </tr>\n",
       "  </thead>\n",
       "  <tbody>\n",
       "    <tr>\n",
       "      <th>count</th>\n",
       "      <td>18412.000000</td>\n",
       "      <td>18412.000000</td>\n",
       "      <td>1.817100e+04</td>\n",
       "    </tr>\n",
       "    <tr>\n",
       "      <th>mean</th>\n",
       "      <td>269.442483</td>\n",
       "      <td>17.809255</td>\n",
       "      <td>5.114234e+07</td>\n",
       "    </tr>\n",
       "    <tr>\n",
       "      <th>std</th>\n",
       "      <td>1695.275537</td>\n",
       "      <td>124.850076</td>\n",
       "      <td>1.750804e+08</td>\n",
       "    </tr>\n",
       "    <tr>\n",
       "      <th>min</th>\n",
       "      <td>-2461.000000</td>\n",
       "      <td>0.000000</td>\n",
       "      <td>1.000000e+03</td>\n",
       "    </tr>\n",
       "    <tr>\n",
       "      <th>25%</th>\n",
       "      <td>0.000000</td>\n",
       "      <td>0.000000</td>\n",
       "      <td>2.254126e+06</td>\n",
       "    </tr>\n",
       "    <tr>\n",
       "      <th>50%</th>\n",
       "      <td>2.000000</td>\n",
       "      <td>0.000000</td>\n",
       "      <td>9.630959e+06</td>\n",
       "    </tr>\n",
       "    <tr>\n",
       "      <th>75%</th>\n",
       "      <td>40.000000</td>\n",
       "      <td>1.000000</td>\n",
       "      <td>3.602914e+07</td>\n",
       "    </tr>\n",
       "    <tr>\n",
       "      <th>max</th>\n",
       "      <td>48529.000000</td>\n",
       "      <td>4928.000000</td>\n",
       "      <td>1.392730e+09</td>\n",
       "    </tr>\n",
       "  </tbody>\n",
       "</table>\n",
       "</div>"
      ],
      "text/plain": [
       "              cases        deaths   popData2018\n",
       "count  18412.000000  18412.000000  1.817100e+04\n",
       "mean     269.442483     17.809255  5.114234e+07\n",
       "std     1695.275537    124.850076  1.750804e+08\n",
       "min    -2461.000000      0.000000  1.000000e+03\n",
       "25%        0.000000      0.000000  2.254126e+06\n",
       "50%        2.000000      0.000000  9.630959e+06\n",
       "75%       40.000000      1.000000  3.602914e+07\n",
       "max    48529.000000   4928.000000  1.392730e+09"
      ]
     },
     "execution_count": 292,
     "metadata": {},
     "output_type": "execute_result"
    }
   ],
   "source": [
    "df.describe()"
   ]
  },
  {
   "cell_type": "code",
   "execution_count": 293,
   "metadata": {},
   "outputs": [
    {
     "name": "stdout",
     "output_type": "stream",
     "text": [
      "            cases  deaths      country  popData2018 continent\n",
      "date                                                         \n",
      "2020-05-21    492       9  Afghanistan   37172386.0      Asia\n",
      "2020-05-20    581       5  Afghanistan   37172386.0      Asia\n",
      "2020-05-19    408       4  Afghanistan   37172386.0      Asia\n",
      "2020-05-18    262       1  Afghanistan   37172386.0      Asia\n",
      "2020-05-17      0       0  Afghanistan   37172386.0      Asia\n",
      "...           ...     ...          ...          ...       ...\n",
      "2020-03-25      0       0     Zimbabwe   14439018.0    Africa\n",
      "2020-03-24      0       1     Zimbabwe   14439018.0    Africa\n",
      "2020-03-23      0       0     Zimbabwe   14439018.0    Africa\n",
      "2020-03-22      1       0     Zimbabwe   14439018.0    Africa\n",
      "2020-03-21      1       0     Zimbabwe   14439018.0    Africa\n",
      "\n",
      "[18412 rows x 5 columns]\n"
     ]
    }
   ],
   "source": [
    "print(df)"
   ]
  },
  {
   "cell_type": "code",
   "execution_count": 310,
   "metadata": {},
   "outputs": [
    {
     "data": {
      "image/png": "[encoded data removed]",
      "text/plain": [
       "<Figure size 576x576 with 1 Axes>"
      ]
     },
     "metadata": {},
     "output_type": "display_data"
    }
   ],
   "source": [
    "#Group cases by Continent and get totals\n",
    "\n",
    "sns.set_palette('cool')\n",
    "plt.figure(figsize=(8,8))\n",
    "\n",
    "tot_cases = []\n",
    "\n",
    "africa_cases = df.groupby('continent')['cases'].sum()['Africa']\n",
    "america_cases = df.groupby('continent')['cases'].sum()['America']\n",
    "asia_cases = df.groupby('continent')['cases'].sum()['Asia']\n",
    "europe_cases = df.groupby('continent')['cases'].sum()['Europe']\n",
    "oceania_cases = df.groupby('continent')['cases'].sum()['Oceania']\n",
    "\n",
    "tot_cases.extend([africa_cases, america_cases, asia_cases, oceania_cases, europe_cases])\n",
    "\n",
    "explode = [0.1, 0.1, 0.1, 0.1, 0.1]\n",
    "plt.pie(tot_cases, labels =continents, explode=explode,\n",
    "        shadow= True, startangle=90, autopct='%1.1f%%', pctdistance=1.2, labeldistance=1.5,\n",
    "        wedgeprops={'edgecolor': 'black'})\n",
    "\n",
    "\n",
    "\n",
    "plt.title(\"Covid-19 Cases Distribution by Continent\", y=1.3)\n",
    "plt.tight_layout()\n",
    "#plt.savefig('continent_pie.png', dpi=300)\n",
    "plt.show()\n"
   ]
  },
  {
   "cell_type": "code",
   "execution_count": 307,
   "metadata": {},
   "outputs": [
    {
     "ename": "SyntaxError",
     "evalue": "invalid syntax (<ipython-input-307-e35da2758759>, line 20)",
     "output_type": "error",
     "traceback": [
      "\u001b[0;36m  File \u001b[0;32m\"<ipython-input-307-e35da2758759>\"\u001b[0;36m, line \u001b[0;32m20\u001b[0m\n\u001b[0;31m    x = time_series.date[]\u001b[0m\n\u001b[0m                         ^\u001b[0m\n\u001b[0;31mSyntaxError\u001b[0m\u001b[0;31m:\u001b[0m invalid syntax\n"
     ]
    }
   ],
   "source": [
    "# The data is organised by day and country. Here I want to re- organise it by continent, and sum the cases from each day. \n",
    "# So instead of having several values for a day - country -continent; I will only have  Day1-Continent , Day2-continent.. etc. \n",
    "\n",
    "#I pivoted the data, result: i get totals for each day by continent. \n",
    "\n",
    "# Question 1: How can I make a day to sum the previous day... So i can show the growing cases.\n",
    "# Question 2: I want to do a line chart showing every continent. But I can't.\n",
    "# bonus: then I will do the same for deaths. \n",
    "\n",
    "\n",
    "#Group dates by day and sum cases\n",
    "\n",
    "time_series = df.pivot_table(index='date',columns='continent', aggfunc=sum)\n",
    "#print(time_series)\n",
    "\n",
    "# Question 1: I believe this is it. I didnt know this method.\n",
    "time_series = time_series.cumsum\n",
    "\n",
    "\n",
    "x = time_series.date[]\n",
    "y1 = time_series.continent['Africa']\n",
    "y2 = time_series.continent['Asia']\n",
    "y3 = time_series.continent['America']\n",
    "\n",
    "y = np.vstack([y1, y2, y3])\n",
    "\n",
    "labels = [\"Africa \", \"Asia\", \"America\"]\n",
    "\n",
    "fig, ax = plt.subplots()\n",
    "ax.stackplot(x, y1, y2, y3, labels=labels)\n",
    "ax.legend(loc='upper left')\n",
    "plt.show()\n",
    "\n",
    "\n",
    "\n",
    "\n",
    "\n",
    "\n",
    "\n",
    "\n",
    "\n",
    "\n",
    "\n",
    "\n",
    "\n",
    "#time_series.plot(figsize=(20,10), linewidth=5, fontsize=20)\n",
    "#plt.xlabel('date', fontsize=20);"
   ]
  },
  {
   "cell_type": "code",
   "execution_count": null,
   "metadata": {},
   "outputs": [],
   "source": []
  }
 ],
 "metadata": {
  "kernelspec": {
   "display_name": "Python 3",
   "language": "python",
   "name": "python3"
  },
  "language_info": {
   "codemirror_mode": {
    "name": "ipython",
    "version": 3
   },
   "file_extension": ".py",
   "mimetype": "text/x-python",
   "name": "python",
   "nbconvert_exporter": "python",
   "pygments_lexer": "ipython3",
   "version": "3.7.4"
  }
 },
 "nbformat": 4,
 "nbformat_minor": 4
}
