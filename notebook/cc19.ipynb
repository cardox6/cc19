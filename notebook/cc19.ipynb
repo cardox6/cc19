{
 "cells": [
  {
   "cell_type": "code",
   "execution_count": 1,
   "metadata": {},
   "outputs": [],
   "source": [
    "import numpy as np\n",
    "import datetime\n",
    "import seaborn as sns\n",
    "import matplotlib.pyplot as plt \n",
    "import pandas as pd\n",
    "from scipy import stats\n",
    "\n",
    "import plotly.graph_objects as go\n",
    "sns.set_context('paper', font_scale=1.4)\n",
    "\n",
    "%matplotlib inline"
   ]
  },
  {
   "cell_type": "code",
   "execution_count": 6,
   "metadata": {},
   "outputs": [
    {
     "name": "stdout",
     "output_type": "stream",
     "text": [
      "18975 rows \n",
      "211 countries\n",
      "from 2019-12-31 00:00:00 to 2020-05-23 00:00:00\n"
     ]
    },
    {
     "data": {
      "text/html": [
       "<div>\n",
       "<style scoped>\n",
       "    .dataframe tbody tr th:only-of-type {\n",
       "        vertical-align: middle;\n",
       "    }\n",
       "\n",
       "    .dataframe tbody tr th {\n",
       "        vertical-align: top;\n",
       "    }\n",
       "\n",
       "    .dataframe thead th {\n",
       "        text-align: right;\n",
       "    }\n",
       "</style>\n",
       "<table border=\"1\" class=\"dataframe\">\n",
       "  <thead>\n",
       "    <tr style=\"text-align: right;\">\n",
       "      <th></th>\n",
       "      <th>date</th>\n",
       "      <th>location</th>\n",
       "      <th>new_cases</th>\n",
       "      <th>new_deaths</th>\n",
       "      <th>total_cases</th>\n",
       "      <th>total_deaths</th>\n",
       "    </tr>\n",
       "  </thead>\n",
       "  <tbody>\n",
       "    <tr>\n",
       "      <th>15519</th>\n",
       "      <td>2020-04-28</td>\n",
       "      <td>Slovakia</td>\n",
       "      <td>2</td>\n",
       "      <td>0</td>\n",
       "      <td>1381</td>\n",
       "      <td>18</td>\n",
       "    </tr>\n",
       "    <tr>\n",
       "      <th>10739</th>\n",
       "      <td>2020-04-06</td>\n",
       "      <td>Malawi</td>\n",
       "      <td>0</td>\n",
       "      <td>0</td>\n",
       "      <td>4</td>\n",
       "      <td>0</td>\n",
       "    </tr>\n",
       "    <tr>\n",
       "      <th>13045</th>\n",
       "      <td>2020-01-14</td>\n",
       "      <td>Oman</td>\n",
       "      <td>0</td>\n",
       "      <td>0</td>\n",
       "      <td>0</td>\n",
       "      <td>0</td>\n",
       "    </tr>\n",
       "    <tr>\n",
       "      <th>10758</th>\n",
       "      <td>2020-04-25</td>\n",
       "      <td>Malawi</td>\n",
       "      <td>0</td>\n",
       "      <td>0</td>\n",
       "      <td>33</td>\n",
       "      <td>3</td>\n",
       "    </tr>\n",
       "    <tr>\n",
       "      <th>12934</th>\n",
       "      <td>2020-02-17</td>\n",
       "      <td>Norway</td>\n",
       "      <td>0</td>\n",
       "      <td>0</td>\n",
       "      <td>0</td>\n",
       "      <td>0</td>\n",
       "    </tr>\n",
       "  </tbody>\n",
       "</table>\n",
       "</div>"
      ],
      "text/plain": [
       "            date  location  new_cases  new_deaths  total_cases  total_deaths\n",
       "15519 2020-04-28  Slovakia          2           0         1381            18\n",
       "10739 2020-04-06    Malawi          0           0            4             0\n",
       "13045 2020-01-14      Oman          0           0            0             0\n",
       "10758 2020-04-25    Malawi          0           0           33             3\n",
       "12934 2020-02-17    Norway          0           0            0             0"
      ]
     },
     "execution_count": 6,
     "metadata": {},
     "output_type": "execute_result"
    }
   ],
   "source": [
    "time_series = pd.read_csv('https://covid.ourworldindata.org/data/ecdc/full_data.csv',\n",
    "                          parse_dates=[0], dtype={'location': 'category'})\n",
    "\n",
    "print(\"{} rows \\n{} countries\\nfrom {} to {}\".format(len(time_series), \n",
    "                                                         time_series['location'].nunique(),\n",
    "                                                         time_series['date'].min(),\n",
    "                                                         time_series['date'].max()))\n",
    "time_series.sample(5)"
   ]
  },
  {
   "cell_type": "code",
   "execution_count": 7,
   "metadata": {},
   "outputs": [
    {
     "data": {
      "text/html": [
       "<div>\n",
       "<style scoped>\n",
       "    .dataframe tbody tr th:only-of-type {\n",
       "        vertical-align: middle;\n",
       "    }\n",
       "\n",
       "    .dataframe tbody tr th {\n",
       "        vertical-align: top;\n",
       "    }\n",
       "\n",
       "    .dataframe thead th {\n",
       "        text-align: right;\n",
       "    }\n",
       "</style>\n",
       "<table border=\"1\" class=\"dataframe\">\n",
       "  <thead>\n",
       "    <tr style=\"text-align: right;\">\n",
       "      <th></th>\n",
       "      <th>location</th>\n",
       "      <th>total_cases</th>\n",
       "      <th>total_deaths</th>\n",
       "    </tr>\n",
       "  </thead>\n",
       "  <tbody>\n",
       "    <tr>\n",
       "      <th>0</th>\n",
       "      <td>Afghanistan</td>\n",
       "      <td>9216</td>\n",
       "      <td>205</td>\n",
       "    </tr>\n",
       "    <tr>\n",
       "      <th>1</th>\n",
       "      <td>Albania</td>\n",
       "      <td>981</td>\n",
       "      <td>31</td>\n",
       "    </tr>\n",
       "    <tr>\n",
       "      <th>2</th>\n",
       "      <td>Algeria</td>\n",
       "      <td>7918</td>\n",
       "      <td>582</td>\n",
       "    </tr>\n",
       "    <tr>\n",
       "      <th>3</th>\n",
       "      <td>Andorra</td>\n",
       "      <td>762</td>\n",
       "      <td>51</td>\n",
       "    </tr>\n",
       "    <tr>\n",
       "      <th>4</th>\n",
       "      <td>Angola</td>\n",
       "      <td>60</td>\n",
       "      <td>3</td>\n",
       "    </tr>\n",
       "  </tbody>\n",
       "</table>\n",
       "</div>"
      ],
      "text/plain": [
       "      location  total_cases  total_deaths\n",
       "0  Afghanistan         9216           205\n",
       "1      Albania          981            31\n",
       "2      Algeria         7918           582\n",
       "3      Andorra          762            51\n",
       "4       Angola           60             3"
      ]
     },
     "execution_count": 7,
     "metadata": {},
     "output_type": "execute_result"
    }
   ],
   "source": [
    "countries = pd.DataFrame(columns=['location', 'total_cases', 'total_deaths'])\n",
    "countries['location'] = time_series['location'].unique()\n",
    "countries['total_cases'] = time_series.groupby('location')['total_cases'].max().values\n",
    "countries['total_deaths'] = time_series.groupby('location')['total_deaths'].max().values\n",
    "countries.head()"
   ]
  },
  {
   "cell_type": "code",
   "execution_count": 5,
   "metadata": {},
   "outputs": [
    {
     "name": "stdout",
     "output_type": "stream",
     "text": [
      "[World, United States, Brazil, Russia, United Kingdom, ..., British Virgin Islands, Bonaire Sint Eustatius and Saba, Western Sahara, Anguilla, Lesotho]\n",
      "Length: 211\n",
      "Categories (211, object): [Afghanistan, Albania, Algeria, Andorra, ..., World, Yemen, Zambia, Zimbabwe]\n"
     ]
    },
    {
     "data": {
      "image/png": "[encoded data removed]",
      "text/plain": [
       "<Figure size 432x432 with 1 Axes>"
      ]
     },
     "metadata": {
      "needs_background": "light"
     },
     "output_type": "display_data"
    }
   ],
   "source": [
    "n = 15  # top n\n",
    "\n",
    "## get locations sorted\n",
    "sorted_cases = countries['total_cases'].sort_values(ascending=False)\n",
    "sorted_cases_locs = countries.loc[sorted_cases.index]['location'].values\n",
    "print(sorted_cases_locs)\n",
    "f, ax = plt.subplots(figsize = (6,6))\n",
    "\n",
    "sns.set_color_codes('pastel')\n",
    "sns.barplot(x='total_cases', y='location', data=countries, order=sorted_cases_locs[1:n],\n",
    "           label='total cases', color='b')\n",
    "\n",
    "sns.set_color_codes('muted')\n",
    "sns.barplot(x='total_deaths', y='location', data=countries, order=sorted_cases_locs[1:n],\n",
    "           label='total deaths', color='r')\n",
    "\n",
    "ax.set_xlabel('counts')\n",
    "ax.legend(ncol = 2, loc = 'lower right')\n",
    "sns.despine(left = True, bottom = True)"
   ]
  },
  {
   "cell_type": "code",
   "execution_count": null,
   "metadata": {},
   "outputs": [],
   "source": []
  },
  {
   "cell_type": "code",
   "execution_count": null,
   "metadata": {},
   "outputs": [],
   "source": []
  }
 ],
 "metadata": {
  "kernelspec": {
   "display_name": "Python 3",
   "language": "python",
   "name": "python3"
  },
  "language_info": {
   "codemirror_mode": {
    "name": "ipython",
    "version": 3
   },
   "file_extension": ".py",
   "mimetype": "text/x-python",
   "name": "python",
   "nbconvert_exporter": "python",
   "pygments_lexer": "ipython3",
   "version": "3.7.4"
  }
 },
 "nbformat": 4,
 "nbformat_minor": 4
}
