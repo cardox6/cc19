{
 "cells": [
  {
   "cell_type": "code",
   "execution_count": 17,
   "metadata": {},
   "outputs": [],
   "source": [
    "import numpy as np\n",
    "import datetime\n",
    "import seaborn as sns\n",
    "import matplotlib.pyplot as plt \n",
    "import pandas as pd\n",
    "from scipy import stats\n",
    "\n",
    "import plotly.graph_objects as go\n",
    "sns.set_context('paper', font_scale=1.4)\n",
    "\n",
    "%matplotlib inline"
   ]
  },
  {
   "cell_type": "code",
   "execution_count": 19,
   "metadata": {},
   "outputs": [
    {
     "name": "stdout",
     "output_type": "stream",
     "text": [
      "18345 rows \n",
      "211 countries\n",
      "from 2019-12-31 00:00:00 to 2020-05-20 00:00:00\n"
     ]
    },
    {
     "data": {
      "text/html": [
       "<div>\n",
       "<style scoped>\n",
       "    .dataframe tbody tr th:only-of-type {\n",
       "        vertical-align: middle;\n",
       "    }\n",
       "\n",
       "    .dataframe tbody tr th {\n",
       "        vertical-align: top;\n",
       "    }\n",
       "\n",
       "    .dataframe thead th {\n",
       "        text-align: right;\n",
       "    }\n",
       "</style>\n",
       "<table border=\"1\" class=\"dataframe\">\n",
       "  <thead>\n",
       "    <tr style=\"text-align: right;\">\n",
       "      <th></th>\n",
       "      <th>date</th>\n",
       "      <th>location</th>\n",
       "      <th>new_cases</th>\n",
       "      <th>new_deaths</th>\n",
       "      <th>total_cases</th>\n",
       "      <th>total_deaths</th>\n",
       "    </tr>\n",
       "  </thead>\n",
       "  <tbody>\n",
       "    <tr>\n",
       "      <th>9215</th>\n",
       "      <td>2020-04-14</td>\n",
       "      <td>Kosovo</td>\n",
       "      <td>15</td>\n",
       "      <td>1</td>\n",
       "      <td>377</td>\n",
       "      <td>8</td>\n",
       "    </tr>\n",
       "    <tr>\n",
       "      <th>935</th>\n",
       "      <td>2020-03-21</td>\n",
       "      <td>Australia</td>\n",
       "      <td>165</td>\n",
       "      <td>1</td>\n",
       "      <td>874</td>\n",
       "      <td>7</td>\n",
       "    </tr>\n",
       "    <tr>\n",
       "      <th>6583</th>\n",
       "      <td>2020-04-19</td>\n",
       "      <td>Gibraltar</td>\n",
       "      <td>0</td>\n",
       "      <td>0</td>\n",
       "      <td>133</td>\n",
       "      <td>0</td>\n",
       "    </tr>\n",
       "    <tr>\n",
       "      <th>4981</th>\n",
       "      <td>2020-04-07</td>\n",
       "      <td>Ecuador</td>\n",
       "      <td>101</td>\n",
       "      <td>11</td>\n",
       "      <td>3747</td>\n",
       "      <td>191</td>\n",
       "    </tr>\n",
       "    <tr>\n",
       "      <th>6996</th>\n",
       "      <td>2020-05-11</td>\n",
       "      <td>Guatemala</td>\n",
       "      <td>85</td>\n",
       "      <td>2</td>\n",
       "      <td>1052</td>\n",
       "      <td>26</td>\n",
       "    </tr>\n",
       "  </tbody>\n",
       "</table>\n",
       "</div>"
      ],
      "text/plain": [
       "           date   location  new_cases  new_deaths  total_cases  total_deaths\n",
       "9215 2020-04-14     Kosovo         15           1          377             8\n",
       "935  2020-03-21  Australia        165           1          874             7\n",
       "6583 2020-04-19  Gibraltar          0           0          133             0\n",
       "4981 2020-04-07    Ecuador        101          11         3747           191\n",
       "6996 2020-05-11  Guatemala         85           2         1052            26"
      ]
     },
     "execution_count": 19,
     "metadata": {},
     "output_type": "execute_result"
    }
   ],
   "source": [
    "time_series = pd.read_csv('https://covid.ourworldindata.org/data/ecdc/full_data.csv',\n",
    "                          parse_dates=[0], dtype={'location': 'category'})\n",
    "\n",
    "print(\"{} rows \\n{} countries\\nfrom {} to {}\".format(len(time_series), \n",
    "                                                         time_series['location'].nunique(),\n",
    "                                                         time_series['date'].min(),\n",
    "                                                         time_series['date'].max()))\n",
    "time_series.sample(5)"
   ]
  },
  {
   "cell_type": "code",
   "execution_count": 20,
   "metadata": {},
   "outputs": [
    {
     "data": {
      "text/html": [
       "<div>\n",
       "<style scoped>\n",
       "    .dataframe tbody tr th:only-of-type {\n",
       "        vertical-align: middle;\n",
       "    }\n",
       "\n",
       "    .dataframe tbody tr th {\n",
       "        vertical-align: top;\n",
       "    }\n",
       "\n",
       "    .dataframe thead th {\n",
       "        text-align: right;\n",
       "    }\n",
       "</style>\n",
       "<table border=\"1\" class=\"dataframe\">\n",
       "  <thead>\n",
       "    <tr style=\"text-align: right;\">\n",
       "      <th></th>\n",
       "      <th>location</th>\n",
       "      <th>total_cases</th>\n",
       "      <th>total_deaths</th>\n",
       "    </tr>\n",
       "  </thead>\n",
       "  <tbody>\n",
       "    <tr>\n",
       "      <th>0</th>\n",
       "      <td>Afghanistan</td>\n",
       "      <td>7653</td>\n",
       "      <td>178</td>\n",
       "    </tr>\n",
       "    <tr>\n",
       "      <th>1</th>\n",
       "      <td>Albania</td>\n",
       "      <td>949</td>\n",
       "      <td>31</td>\n",
       "    </tr>\n",
       "    <tr>\n",
       "      <th>2</th>\n",
       "      <td>Algeria</td>\n",
       "      <td>7377</td>\n",
       "      <td>561</td>\n",
       "    </tr>\n",
       "    <tr>\n",
       "      <th>3</th>\n",
       "      <td>Andorra</td>\n",
       "      <td>761</td>\n",
       "      <td>51</td>\n",
       "    </tr>\n",
       "    <tr>\n",
       "      <th>4</th>\n",
       "      <td>Angola</td>\n",
       "      <td>50</td>\n",
       "      <td>2</td>\n",
       "    </tr>\n",
       "  </tbody>\n",
       "</table>\n",
       "</div>"
      ],
      "text/plain": [
       "      location  total_cases  total_deaths\n",
       "0  Afghanistan         7653           178\n",
       "1      Albania          949            31\n",
       "2      Algeria         7377           561\n",
       "3      Andorra          761            51\n",
       "4       Angola           50             2"
      ]
     },
     "execution_count": 20,
     "metadata": {},
     "output_type": "execute_result"
    }
   ],
   "source": [
    "countries = pd.DataFrame(columns=['location', 'total_cases', 'total_deaths'])\n",
    "countries['location'] = time_series['location'].unique()\n",
    "countries['total_cases'] = time_series.groupby('location')['total_cases'].max().values\n",
    "countries['total_deaths'] = time_series.groupby('location')['total_deaths'].max().values\n",
    "countries.head()"
   ]
  },
  {
   "cell_type": "code",
   "execution_count": 21,
   "metadata": {},
   "outputs": [
    {
     "name": "stdout",
     "output_type": "stream",
     "text": [
      "[World, United States, Russia, Brazil, United Kingdom, ..., British Virgin Islands, Western Sahara, Bonaire Sint Eustatius and Saba, Anguilla, Lesotho]\n",
      "Length: 211\n",
      "Categories (211, object): [Afghanistan, Albania, Algeria, Andorra, ..., World, Yemen, Zambia, Zimbabwe]\n"
     ]
    },
    {
     "data": {
      "image/png": "[encoded data removed]",
      "text/plain": [
       "<Figure size 432x432 with 1 Axes>"
      ]
     },
     "metadata": {
      "needs_background": "light"
     },
     "output_type": "display_data"
    }
   ],
   "source": [
    "n = 15  # top n\n",
    "\n",
    "## get locations sorted\n",
    "sorted_cases = countries['total_cases'].sort_values(ascending=False)\n",
    "sorted_cases_locs = countries.loc[sorted_cases.index]['location'].values\n",
    "print(sorted_cases_locs)\n",
    "f, ax = plt.subplots(figsize = (6,6))\n",
    "\n",
    "sns.set_color_codes('pastel')\n",
    "sns.barplot(x='total_cases', y='location', data=countries, order=sorted_cases_locs[1:n],\n",
    "           label='total cases', color='b')\n",
    "\n",
    "sns.set_color_codes('muted')\n",
    "sns.barplot(x='total_deaths', y='location', data=countries, order=sorted_cases_locs[1:n],\n",
    "           label='total deaths', color='r')\n",
    "\n",
    "ax.set_xlabel('counts')\n",
    "ax.legend(ncol = 2, loc = 'lower right')\n",
    "sns.despine(left = True, bottom = True)"
   ]
  },
  {
   "cell_type": "code",
   "execution_count": null,
   "metadata": {},
   "outputs": [],
   "source": []
  },
  {
   "cell_type": "code",
   "execution_count": null,
   "metadata": {},
   "outputs": [],
   "source": []
  }
 ],
 "metadata": {
  "kernelspec": {
   "display_name": "Python 3",
   "language": "python",
   "name": "python3"
  },
  "language_info": {
   "codemirror_mode": {
    "name": "ipython",
    "version": 3
   },
   "file_extension": ".py",
   "mimetype": "text/x-python",
   "name": "python",
   "nbconvert_exporter": "python",
   "pygments_lexer": "ipython3",
   "version": "3.7.4"
  }
 },
 "nbformat": 4,
 "nbformat_minor": 4
}
