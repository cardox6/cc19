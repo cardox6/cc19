{
 "cells": [
  {
   "cell_type": "code",
   "execution_count": 1,
   "metadata": {},
   "outputs": [
    {
     "data": {
      "text/html": [
       "<style>.container {width:90% !important;}</style>"
      ],
      "text/plain": [
       "<IPython.core.display.HTML object>"
      ]
     },
     "metadata": {},
     "output_type": "display_data"
    }
   ],
   "source": [
    "from IPython.core.display import display, HTML\n",
    "display(HTML(\"<style>.container {width:90% !important;}</style>\"))\n",
    "import numpy as np\n",
    "import pandas as pd\n",
    "import matplotlib.pyplot as plt\n",
    "import matplotlib.dates as mdates\n",
    "%matplotlib inline\n",
    "\n",
    "import datetime\n",
    "from datetime import datetime, timedelta\n",
    "import seaborn as sns\n",
    "import matplotlib.ticker as ticker\n",
    "#from scipy import stats\n",
    "import plotly.graph_objects as go\n",
    "sns.set_context('paper', font_scale=1.4)"
   ]
  },
  {
   "cell_type": "code",
   "execution_count": 80,
   "metadata": {},
   "outputs": [
    {
     "name": "stdout",
     "output_type": "stream",
     "text": [
      "2019-12-31 00:00:00 2020-05-26 00:00:00\n"
     ]
    }
   ],
   "source": [
    "df = pd.read_csv('data.csv')\n",
    "\n",
    "continents = ['Africa', 'America', 'Asia', 'Oceania', 'Europe']\n",
    "\n",
    "df = df.rename({\"dateRep\": \"date\",\"continentExp\": \"continent\",\"countriesAndTerritories\": \"country\", \"popData2018\":\"population\"}, axis=1)\n",
    "\n",
    "df = df.drop(columns=['geoId', 'countryterritoryCode', 'day', 'month', 'year'])\n",
    "\n",
    "df = df[df.country != 'Cases_on_an_international_conveyance_Japan']\n",
    "\n",
    "df[\"date\"] = pd.to_datetime(df['date'], format='%d/%m/%Y')\n",
    "\n",
    "print(df['date'].min(),df['date'].max())"
   ]
  },
  {
   "cell_type": "code",
   "execution_count": 67,
   "metadata": {},
   "outputs": [
    {
     "data": {
      "text/plain": [
       "date          datetime64[ns]\n",
       "cases                  int64\n",
       "deaths                 int64\n",
       "country               object\n",
       "population           float64\n",
       "continent             object\n",
       "dtype: object"
      ]
     },
     "execution_count": 67,
     "metadata": {},
     "output_type": "execute_result"
    }
   ],
   "source": [
    "df.dtypes"
   ]
  },
  {
   "cell_type": "code",
   "execution_count": 68,
   "metadata": {},
   "outputs": [
    {
     "name": "stdout",
     "output_type": "stream",
     "text": [
      "<class 'pandas.core.frame.DataFrame'>\n",
      "Int64Index: 19393 entries, 0 to 19456\n",
      "Data columns (total 6 columns):\n",
      " #   Column      Non-Null Count  Dtype         \n",
      "---  ------      --------------  -----         \n",
      " 0   date        19393 non-null  datetime64[ns]\n",
      " 1   cases       19393 non-null  int64         \n",
      " 2   deaths      19393 non-null  int64         \n",
      " 3   country     19393 non-null  object        \n",
      " 4   population  19127 non-null  float64       \n",
      " 5   continent   19393 non-null  object        \n",
      "dtypes: datetime64[ns](1), float64(1), int64(2), object(2)\n",
      "memory usage: 1.0+ MB\n"
     ]
    }
   ],
   "source": [
    "df.info()"
   ]
  },
  {
   "cell_type": "code",
   "execution_count": 69,
   "metadata": {},
   "outputs": [
    {
     "data": {
      "text/plain": [
       "Index(['date', 'cases', 'deaths', 'country', 'population', 'continent'], dtype='object')"
      ]
     },
     "execution_count": 69,
     "metadata": {},
     "output_type": "execute_result"
    }
   ],
   "source": [
    "df.columns"
   ]
  },
  {
   "cell_type": "code",
   "execution_count": 70,
   "metadata": {
    "scrolled": true
   },
   "outputs": [
    {
     "data": {
      "text/html": [
       "<div>\n",
       "<style scoped>\n",
       "    .dataframe tbody tr th:only-of-type {\n",
       "        vertical-align: middle;\n",
       "    }\n",
       "\n",
       "    .dataframe tbody tr th {\n",
       "        vertical-align: top;\n",
       "    }\n",
       "\n",
       "    .dataframe thead th {\n",
       "        text-align: right;\n",
       "    }\n",
       "</style>\n",
       "<table border=\"1\" class=\"dataframe\">\n",
       "  <thead>\n",
       "    <tr style=\"text-align: right;\">\n",
       "      <th></th>\n",
       "      <th>cases</th>\n",
       "      <th>deaths</th>\n",
       "      <th>population</th>\n",
       "    </tr>\n",
       "  </thead>\n",
       "  <tbody>\n",
       "    <tr>\n",
       "      <th>count</th>\n",
       "      <td>19393.000000</td>\n",
       "      <td>19393.000000</td>\n",
       "      <td>1.912700e+04</td>\n",
       "    </tr>\n",
       "    <tr>\n",
       "      <th>mean</th>\n",
       "      <td>281.484556</td>\n",
       "      <td>17.840819</td>\n",
       "      <td>5.055983e+07</td>\n",
       "    </tr>\n",
       "    <tr>\n",
       "      <th>std</th>\n",
       "      <td>1724.126182</td>\n",
       "      <td>124.746206</td>\n",
       "      <td>1.737046e+08</td>\n",
       "    </tr>\n",
       "    <tr>\n",
       "      <th>min</th>\n",
       "      <td>-2461.000000</td>\n",
       "      <td>-1918.000000</td>\n",
       "      <td>1.000000e+03</td>\n",
       "    </tr>\n",
       "    <tr>\n",
       "      <th>25%</th>\n",
       "      <td>0.000000</td>\n",
       "      <td>0.000000</td>\n",
       "      <td>2.254126e+06</td>\n",
       "    </tr>\n",
       "    <tr>\n",
       "      <th>50%</th>\n",
       "      <td>2.000000</td>\n",
       "      <td>0.000000</td>\n",
       "      <td>9.630959e+06</td>\n",
       "    </tr>\n",
       "    <tr>\n",
       "      <th>75%</th>\n",
       "      <td>44.000000</td>\n",
       "      <td>1.000000</td>\n",
       "      <td>3.369995e+07</td>\n",
       "    </tr>\n",
       "    <tr>\n",
       "      <th>max</th>\n",
       "      <td>48529.000000</td>\n",
       "      <td>4928.000000</td>\n",
       "      <td>1.392730e+09</td>\n",
       "    </tr>\n",
       "  </tbody>\n",
       "</table>\n",
       "</div>"
      ],
      "text/plain": [
       "              cases        deaths    population\n",
       "count  19393.000000  19393.000000  1.912700e+04\n",
       "mean     281.484556     17.840819  5.055983e+07\n",
       "std     1724.126182    124.746206  1.737046e+08\n",
       "min    -2461.000000  -1918.000000  1.000000e+03\n",
       "25%        0.000000      0.000000  2.254126e+06\n",
       "50%        2.000000      0.000000  9.630959e+06\n",
       "75%       44.000000      1.000000  3.369995e+07\n",
       "max    48529.000000   4928.000000  1.392730e+09"
      ]
     },
     "execution_count": 70,
     "metadata": {},
     "output_type": "execute_result"
    }
   ],
   "source": [
    "df.describe()"
   ]
  },
  {
   "cell_type": "code",
   "execution_count": 71,
   "metadata": {},
   "outputs": [],
   "source": [
    "#Set colors for graphs\n",
    "\n",
    "sns.set_palette('husl')"
   ]
  },
  {
   "cell_type": "code",
   "execution_count": 72,
   "metadata": {},
   "outputs": [
    {
     "ename": "SyntaxError",
     "evalue": "invalid syntax (<ipython-input-72-516b2805ca74>, line 18)",
     "output_type": "error",
     "traceback": [
      "\u001b[0;36m  File \u001b[0;32m\"<ipython-input-72-516b2805ca74>\"\u001b[0;36m, line \u001b[0;32m18\u001b[0m\n\u001b[0;31m    shadow= True, startangle=90, autopct='%1.1f%%', pctdistance=1.2, labeldistance=1.5), wedgeprops={'edgecolor': 'black'})\u001b[0m\n\u001b[0m                                                                                                                          ^\u001b[0m\n\u001b[0;31mSyntaxError\u001b[0m\u001b[0;31m:\u001b[0m invalid syntax\n"
     ]
    }
   ],
   "source": [
    "#Group cases by Continent and get totals\n",
    "\n",
    "plt.figure(figsize=(8,8))\n",
    "\n",
    "tot_cases = []\n",
    "\n",
    "africa_cases = df.groupby('continent')['cases'].sum()['Africa']\n",
    "america_cases = df.groupby('continent')['cases'].sum()['America']\n",
    "asia_cases = df.groupby('continent')['cases'].sum()['Asia']\n",
    "europe_cases = df.groupby('continent')['cases'].sum()['Europe']\n",
    "oceania_cases = df.groupby('continent')['cases'].sum()['Oceania']\n",
    "\n",
    "tot_cases.extend([africa_cases, america_cases, asia_cases, oceania_cases, europe_cases])\n",
    "\n",
    "explode = [0.1, 0.1, 0.1, 0.1, 0.1]\n",
    "\n",
    "plt.pie(tot_cases, labels =continents, explode=explode,\n",
    "        shadow= True, startangle=90, autopct='%1.1f%%', pctdistance=1.2, labeldistance=1.5), wedgeprops={'edgecolor': 'black'})\n",
    "\n",
    "\n",
    "\n",
    "plt.title(\"Covid-19 Cases Distribution by Continent\", y=1.3)\n",
    "plt.tight_layout()\n",
    "#plt.savefig('continent_pie.png', dpi=300)\n",
    "plt.show()\n"
   ]
  },
  {
   "cell_type": "code",
   "execution_count": 73,
   "metadata": {},
   "outputs": [
    {
     "data": {
      "text/plain": [
       "Text(0.5, 0.98, 'Continent Cases per Day')"
      ]
     },
     "execution_count": 73,
     "metadata": {},
     "output_type": "execute_result"
    },
    {
     "data": {
      "text/plain": [
       "<Figure size 432x288 with 0 Axes>"
      ]
     },
     "metadata": {},
     "output_type": "display_data"
    },
    {
     "data": {
      "image/png": "[encoded data removed]",
      "text/plain": [
       "<Figure size 1543.1x720 with 1 Axes>"
      ]
     },
     "metadata": {
      "needs_background": "light"
     },
     "output_type": "display_data"
    }
   ],
   "source": [
    "df_cases = df.groupby(['date', 'continent'])[['cases', 'deaths']].sum().reset_index()\n",
    "#print(df_cases)\n",
    "# Show continent cases per day\n",
    "\n",
    "plt.tight_layout()\n",
    "g = sns.relplot(x='date', y='cases', hue='continent', kind='line', height=10, aspect=2, data=df_cases)\n",
    "g.fig.autofmt_xdate()\n",
    "\n",
    "# Set Title, distance from top\n",
    "plt.subplots_adjust(top=0.9)\n",
    "g.fig.suptitle('Continent Cases per Day')\n",
    "\n",
    "#plt.savefig('continent_lines.png', dpi=300)"
   ]
  },
  {
   "cell_type": "code",
   "execution_count": 74,
   "metadata": {},
   "outputs": [
    {
     "data": {
      "text/plain": [
       "Text(0.5, 0.98, 'Relationship Between Cases and Deaths')"
      ]
     },
     "execution_count": 74,
     "metadata": {},
     "output_type": "execute_result"
    },
    {
     "data": {
      "text/plain": [
       "<Figure size 432x288 with 0 Axes>"
      ]
     },
     "metadata": {},
     "output_type": "display_data"
    },
    {
     "data": {
      "image/png": "[encoded data removed]",
      "text/plain": [
       "<Figure size 751.102x432 with 1 Axes>"
      ]
     },
     "metadata": {
      "needs_background": "light"
     },
     "output_type": "display_data"
    }
   ],
   "source": [
    "# Plot the Relationship Between Cases and Deaths\n",
    "\n",
    "#plt.title('Relationship Between Cases and Deaths')\n",
    "\n",
    "plt.tight_layout()\n",
    "gg = sns.relplot(x='cases', y='deaths', hue='continent', size='deaths', style='continent', height=6, aspect=1.5, data=df_cases)\n",
    "\n",
    "# Rotate x ticks\n",
    "gg.set_xticklabels(rotation=65, horizontalalignment='right')\n",
    "\n",
    "# Set Title, distance from top\n",
    "plt.subplots_adjust(top=0.9)\n",
    "gg.fig.suptitle('Relationship Between Cases and Deaths')\n",
    "\n",
    "#plt.savefig('rel_cases.png', dpi=300)"
   ]
  },
  {
   "cell_type": "code",
   "execution_count": 75,
   "metadata": {},
   "outputs": [
    {
     "data": {
      "text/html": [
       "<div>\n",
       "<style scoped>\n",
       "    .dataframe tbody tr th:only-of-type {\n",
       "        vertical-align: middle;\n",
       "    }\n",
       "\n",
       "    .dataframe tbody tr th {\n",
       "        vertical-align: top;\n",
       "    }\n",
       "\n",
       "    .dataframe thead th {\n",
       "        text-align: right;\n",
       "    }\n",
       "</style>\n",
       "<table border=\"1\" class=\"dataframe\">\n",
       "  <thead>\n",
       "    <tr style=\"text-align: right;\">\n",
       "      <th></th>\n",
       "      <th>country</th>\n",
       "      <th>continent</th>\n",
       "      <th>date</th>\n",
       "      <th>cases</th>\n",
       "      <th>deaths</th>\n",
       "      <th>cum_cases</th>\n",
       "      <th>cum_deaths</th>\n",
       "    </tr>\n",
       "  </thead>\n",
       "  <tbody>\n",
       "    <tr>\n",
       "      <th>19390</th>\n",
       "      <td>Afghanistan</td>\n",
       "      <td>Asia</td>\n",
       "      <td>2019-12-31</td>\n",
       "      <td>0</td>\n",
       "      <td>0</td>\n",
       "      <td>0</td>\n",
       "      <td>0</td>\n",
       "    </tr>\n",
       "    <tr>\n",
       "      <th>19323</th>\n",
       "      <td>Afghanistan</td>\n",
       "      <td>Asia</td>\n",
       "      <td>2020-01-01</td>\n",
       "      <td>0</td>\n",
       "      <td>0</td>\n",
       "      <td>0</td>\n",
       "      <td>0</td>\n",
       "    </tr>\n",
       "    <tr>\n",
       "      <th>19256</th>\n",
       "      <td>Afghanistan</td>\n",
       "      <td>Asia</td>\n",
       "      <td>2020-01-02</td>\n",
       "      <td>0</td>\n",
       "      <td>0</td>\n",
       "      <td>0</td>\n",
       "      <td>0</td>\n",
       "    </tr>\n",
       "    <tr>\n",
       "      <th>19189</th>\n",
       "      <td>Afghanistan</td>\n",
       "      <td>Asia</td>\n",
       "      <td>2020-01-03</td>\n",
       "      <td>0</td>\n",
       "      <td>0</td>\n",
       "      <td>0</td>\n",
       "      <td>0</td>\n",
       "    </tr>\n",
       "    <tr>\n",
       "      <th>19122</th>\n",
       "      <td>Afghanistan</td>\n",
       "      <td>Asia</td>\n",
       "      <td>2020-01-04</td>\n",
       "      <td>0</td>\n",
       "      <td>0</td>\n",
       "      <td>0</td>\n",
       "      <td>0</td>\n",
       "    </tr>\n",
       "    <tr>\n",
       "      <th>...</th>\n",
       "      <td>...</td>\n",
       "      <td>...</td>\n",
       "      <td>...</td>\n",
       "      <td>...</td>\n",
       "      <td>...</td>\n",
       "      <td>...</td>\n",
       "      <td>...</td>\n",
       "    </tr>\n",
       "    <tr>\n",
       "      <th>8703</th>\n",
       "      <td>Afghanistan</td>\n",
       "      <td>Asia</td>\n",
       "      <td>2020-04-14</td>\n",
       "      <td>58</td>\n",
       "      <td>3</td>\n",
       "      <td>665</td>\n",
       "      <td>21</td>\n",
       "    </tr>\n",
       "    <tr>\n",
       "      <th>8498</th>\n",
       "      <td>Afghanistan</td>\n",
       "      <td>Asia</td>\n",
       "      <td>2020-04-15</td>\n",
       "      <td>49</td>\n",
       "      <td>2</td>\n",
       "      <td>714</td>\n",
       "      <td>23</td>\n",
       "    </tr>\n",
       "    <tr>\n",
       "      <th>8293</th>\n",
       "      <td>Afghanistan</td>\n",
       "      <td>Asia</td>\n",
       "      <td>2020-04-16</td>\n",
       "      <td>70</td>\n",
       "      <td>2</td>\n",
       "      <td>784</td>\n",
       "      <td>25</td>\n",
       "    </tr>\n",
       "    <tr>\n",
       "      <th>8088</th>\n",
       "      <td>Afghanistan</td>\n",
       "      <td>Asia</td>\n",
       "      <td>2020-04-17</td>\n",
       "      <td>10</td>\n",
       "      <td>4</td>\n",
       "      <td>794</td>\n",
       "      <td>29</td>\n",
       "    </tr>\n",
       "    <tr>\n",
       "      <th>7883</th>\n",
       "      <td>Afghanistan</td>\n",
       "      <td>Asia</td>\n",
       "      <td>2020-04-18</td>\n",
       "      <td>51</td>\n",
       "      <td>1</td>\n",
       "      <td>845</td>\n",
       "      <td>30</td>\n",
       "    </tr>\n",
       "  </tbody>\n",
       "</table>\n",
       "<p>100 rows × 7 columns</p>\n",
       "</div>"
      ],
      "text/plain": [
       "           country continent       date  cases  deaths  cum_cases  cum_deaths\n",
       "19390  Afghanistan      Asia 2019-12-31      0       0          0           0\n",
       "19323  Afghanistan      Asia 2020-01-01      0       0          0           0\n",
       "19256  Afghanistan      Asia 2020-01-02      0       0          0           0\n",
       "19189  Afghanistan      Asia 2020-01-03      0       0          0           0\n",
       "19122  Afghanistan      Asia 2020-01-04      0       0          0           0\n",
       "...            ...       ...        ...    ...     ...        ...         ...\n",
       "8703   Afghanistan      Asia 2020-04-14     58       3        665          21\n",
       "8498   Afghanistan      Asia 2020-04-15     49       2        714          23\n",
       "8293   Afghanistan      Asia 2020-04-16     70       2        784          25\n",
       "8088   Afghanistan      Asia 2020-04-17     10       4        794          29\n",
       "7883   Afghanistan      Asia 2020-04-18     51       1        845          30\n",
       "\n",
       "[100 rows x 7 columns]"
      ]
     },
     "execution_count": 75,
     "metadata": {},
     "output_type": "execute_result"
    }
   ],
   "source": [
    "# Acumulate cases/deaths by country \n",
    "continents = df[\"continent\"].unique()\n",
    "\n",
    "df_cumulative = pd.DataFrame()\n",
    "for continent in continents:\n",
    "    country = df[df['continent'] == continent]['country'].unique()\n",
    "    for country in country:\n",
    "        df_country = df[df['country'] == country].sort_values(by='date')[['country', 'continent', 'date', 'cases', 'deaths']]\n",
    "        df_country['cum_cases'] = df_country['cases'].cumsum()\n",
    "        df_country['cum_deaths'] = df_country['deaths'].cumsum()\n",
    "        df_cumulative = pd.concat([df_cumulative, df_country], axis = 0)\n",
    "    \n",
    "df_cumulative.head(100)"
   ]
  },
  {
   "cell_type": "code",
   "execution_count": 76,
   "metadata": {},
   "outputs": [
    {
     "data": {
      "text/html": [
       "<div>\n",
       "<style scoped>\n",
       "    .dataframe tbody tr th:only-of-type {\n",
       "        vertical-align: middle;\n",
       "    }\n",
       "\n",
       "    .dataframe tbody tr th {\n",
       "        vertical-align: top;\n",
       "    }\n",
       "\n",
       "    .dataframe thead th {\n",
       "        text-align: right;\n",
       "    }\n",
       "</style>\n",
       "<table border=\"1\" class=\"dataframe\">\n",
       "  <thead>\n",
       "    <tr style=\"text-align: right;\">\n",
       "      <th></th>\n",
       "      <th>cases</th>\n",
       "      <th>deaths</th>\n",
       "      <th>cum_cases</th>\n",
       "      <th>cum_deaths</th>\n",
       "    </tr>\n",
       "    <tr>\n",
       "      <th>date</th>\n",
       "      <th></th>\n",
       "      <th></th>\n",
       "      <th></th>\n",
       "      <th></th>\n",
       "    </tr>\n",
       "  </thead>\n",
       "  <tbody>\n",
       "    <tr>\n",
       "      <th>2020-05-22</th>\n",
       "      <td>107909</td>\n",
       "      <td>5442</td>\n",
       "      <td>5068670</td>\n",
       "      <td>333392</td>\n",
       "    </tr>\n",
       "    <tr>\n",
       "      <th>2020-05-23</th>\n",
       "      <td>106559</td>\n",
       "      <td>4690</td>\n",
       "      <td>5175229</td>\n",
       "      <td>338082</td>\n",
       "    </tr>\n",
       "    <tr>\n",
       "      <th>2020-05-24</th>\n",
       "      <td>101131</td>\n",
       "      <td>3989</td>\n",
       "      <td>5276360</td>\n",
       "      <td>342071</td>\n",
       "    </tr>\n",
       "    <tr>\n",
       "      <th>2020-05-25</th>\n",
       "      <td>94231</td>\n",
       "      <td>816</td>\n",
       "      <td>5370591</td>\n",
       "      <td>342887</td>\n",
       "    </tr>\n",
       "    <tr>\n",
       "      <th>2020-05-26</th>\n",
       "      <td>88239</td>\n",
       "      <td>3100</td>\n",
       "      <td>5223430</td>\n",
       "      <td>319153</td>\n",
       "    </tr>\n",
       "  </tbody>\n",
       "</table>\n",
       "</div>"
      ],
      "text/plain": [
       "             cases  deaths  cum_cases  cum_deaths\n",
       "date                                             \n",
       "2020-05-22  107909    5442    5068670      333392\n",
       "2020-05-23  106559    4690    5175229      338082\n",
       "2020-05-24  101131    3989    5276360      342071\n",
       "2020-05-25   94231     816    5370591      342887\n",
       "2020-05-26   88239    3100    5223430      319153"
      ]
     },
     "execution_count": 76,
     "metadata": {},
     "output_type": "execute_result"
    }
   ],
   "source": [
    "#General Values\n",
    "\n",
    "df_total_cumulative = df_cumulative.groupby('date').sum()\n",
    "df_total_cumulative.tail()"
   ]
  },
  {
   "cell_type": "code",
   "execution_count": 77,
   "metadata": {},
   "outputs": [
    {
     "data": {
      "text/html": [
       "<div>\n",
       "<style scoped>\n",
       "    .dataframe tbody tr th:only-of-type {\n",
       "        vertical-align: middle;\n",
       "    }\n",
       "\n",
       "    .dataframe tbody tr th {\n",
       "        vertical-align: top;\n",
       "    }\n",
       "\n",
       "    .dataframe thead th {\n",
       "        text-align: right;\n",
       "    }\n",
       "</style>\n",
       "<table border=\"1\" class=\"dataframe\">\n",
       "  <thead>\n",
       "    <tr style=\"text-align: right;\">\n",
       "      <th></th>\n",
       "      <th>country</th>\n",
       "      <th>continent</th>\n",
       "      <th>date</th>\n",
       "      <th>cases</th>\n",
       "      <th>deaths</th>\n",
       "      <th>cum_cases</th>\n",
       "      <th>cum_deaths</th>\n",
       "    </tr>\n",
       "  </thead>\n",
       "  <tbody>\n",
       "    <tr>\n",
       "      <th>22</th>\n",
       "      <td>Australia</td>\n",
       "      <td>Oceania</td>\n",
       "      <td>2020-05-25</td>\n",
       "      <td>3</td>\n",
       "      <td>0</td>\n",
       "      <td>8584</td>\n",
       "      <td>130</td>\n",
       "    </tr>\n",
       "    <tr>\n",
       "      <th>345</th>\n",
       "      <td>New_Caledonia</td>\n",
       "      <td>Oceania</td>\n",
       "      <td>2020-05-25</td>\n",
       "      <td>0</td>\n",
       "      <td>0</td>\n",
       "      <td>8584</td>\n",
       "      <td>130</td>\n",
       "    </tr>\n",
       "    <tr>\n",
       "      <th>92</th>\n",
       "      <td>French_Polynesia</td>\n",
       "      <td>Oceania</td>\n",
       "      <td>2020-05-26</td>\n",
       "      <td>0</td>\n",
       "      <td>0</td>\n",
       "      <td>8584</td>\n",
       "      <td>130</td>\n",
       "    </tr>\n",
       "    <tr>\n",
       "      <th>83</th>\n",
       "      <td>Fiji</td>\n",
       "      <td>Oceania</td>\n",
       "      <td>2020-05-26</td>\n",
       "      <td>0</td>\n",
       "      <td>0</td>\n",
       "      <td>8584</td>\n",
       "      <td>130</td>\n",
       "    </tr>\n",
       "    <tr>\n",
       "      <th>161</th>\n",
       "      <td>New_Caledonia</td>\n",
       "      <td>Oceania</td>\n",
       "      <td>2020-05-26</td>\n",
       "      <td>0</td>\n",
       "      <td>0</td>\n",
       "      <td>8584</td>\n",
       "      <td>130</td>\n",
       "    </tr>\n",
       "    <tr>\n",
       "      <th>101</th>\n",
       "      <td>Guam</td>\n",
       "      <td>Oceania</td>\n",
       "      <td>2020-05-26</td>\n",
       "      <td>0</td>\n",
       "      <td>0</td>\n",
       "      <td>8584</td>\n",
       "      <td>130</td>\n",
       "    </tr>\n",
       "    <tr>\n",
       "      <th>162</th>\n",
       "      <td>New_Zealand</td>\n",
       "      <td>Oceania</td>\n",
       "      <td>2020-05-26</td>\n",
       "      <td>0</td>\n",
       "      <td>0</td>\n",
       "      <td>8584</td>\n",
       "      <td>130</td>\n",
       "    </tr>\n",
       "    <tr>\n",
       "      <th>156</th>\n",
       "      <td>Northern_Mariana_Islands</td>\n",
       "      <td>Oceania</td>\n",
       "      <td>2020-05-26</td>\n",
       "      <td>0</td>\n",
       "      <td>0</td>\n",
       "      <td>8584</td>\n",
       "      <td>130</td>\n",
       "    </tr>\n",
       "    <tr>\n",
       "      <th>21</th>\n",
       "      <td>Australia</td>\n",
       "      <td>Oceania</td>\n",
       "      <td>2020-05-26</td>\n",
       "      <td>9</td>\n",
       "      <td>0</td>\n",
       "      <td>8593</td>\n",
       "      <td>130</td>\n",
       "    </tr>\n",
       "    <tr>\n",
       "      <th>171</th>\n",
       "      <td>Papua_New_Guinea</td>\n",
       "      <td>Oceania</td>\n",
       "      <td>2020-05-26</td>\n",
       "      <td>0</td>\n",
       "      <td>0</td>\n",
       "      <td>8593</td>\n",
       "      <td>130</td>\n",
       "    </tr>\n",
       "  </tbody>\n",
       "</table>\n",
       "</div>"
      ],
      "text/plain": [
       "                      country continent       date  cases  deaths  cum_cases  \\\n",
       "22                  Australia   Oceania 2020-05-25      3       0       8584   \n",
       "345             New_Caledonia   Oceania 2020-05-25      0       0       8584   \n",
       "92           French_Polynesia   Oceania 2020-05-26      0       0       8584   \n",
       "83                       Fiji   Oceania 2020-05-26      0       0       8584   \n",
       "161             New_Caledonia   Oceania 2020-05-26      0       0       8584   \n",
       "101                      Guam   Oceania 2020-05-26      0       0       8584   \n",
       "162               New_Zealand   Oceania 2020-05-26      0       0       8584   \n",
       "156  Northern_Mariana_Islands   Oceania 2020-05-26      0       0       8584   \n",
       "21                  Australia   Oceania 2020-05-26      9       0       8593   \n",
       "171          Papua_New_Guinea   Oceania 2020-05-26      0       0       8593   \n",
       "\n",
       "     cum_deaths  \n",
       "22          130  \n",
       "345         130  \n",
       "92          130  \n",
       "83          130  \n",
       "161         130  \n",
       "101         130  \n",
       "162         130  \n",
       "156         130  \n",
       "21          130  \n",
       "171         130  "
      ]
     },
     "execution_count": 77,
     "metadata": {},
     "output_type": "execute_result"
    }
   ],
   "source": [
    "df_cum_continent = pd.DataFrame()\n",
    "for continent in continents:\n",
    "    df_continent = df_cumulative[df_cumulative['continent'] == continent]\n",
    "    df_continent = df_continent.sort_values(by='date')\n",
    "    df_continent['cum_cases'] = df_continent['cases'].cumsum()\n",
    "    df_continent['cum_deaths'] = df_continent['deaths'].cumsum()\n",
    "    df_cum_continent = pd.concat([df_cum_continent, df_continent], axis=0)\n",
    "    \n",
    "df_cum_continent.tail(10)"
   ]
  },
  {
   "cell_type": "code",
   "execution_count": 78,
   "metadata": {},
   "outputs": [
    {
     "data": {
      "text/html": [
       "<div>\n",
       "<style scoped>\n",
       "    .dataframe tbody tr th:only-of-type {\n",
       "        vertical-align: middle;\n",
       "    }\n",
       "\n",
       "    .dataframe tbody tr th {\n",
       "        vertical-align: top;\n",
       "    }\n",
       "\n",
       "    .dataframe thead th {\n",
       "        text-align: right;\n",
       "    }\n",
       "</style>\n",
       "<table border=\"1\" class=\"dataframe\">\n",
       "  <thead>\n",
       "    <tr style=\"text-align: right;\">\n",
       "      <th></th>\n",
       "      <th>country</th>\n",
       "      <th>continent</th>\n",
       "      <th>date</th>\n",
       "      <th>cases</th>\n",
       "      <th>deaths</th>\n",
       "      <th>cum_cases</th>\n",
       "      <th>cum_deaths</th>\n",
       "    </tr>\n",
       "  </thead>\n",
       "  <tbody>\n",
       "    <tr>\n",
       "      <th>114</th>\n",
       "      <td>Iraq</td>\n",
       "      <td>Asia</td>\n",
       "      <td>2020-05-26</td>\n",
       "      <td>163</td>\n",
       "      <td>3</td>\n",
       "      <td>970564</td>\n",
       "      <td>27647</td>\n",
       "    </tr>\n",
       "    <tr>\n",
       "      <th>169</th>\n",
       "      <td>Palestine</td>\n",
       "      <td>Asia</td>\n",
       "      <td>2020-05-26</td>\n",
       "      <td>0</td>\n",
       "      <td>0</td>\n",
       "      <td>970564</td>\n",
       "      <td>27647</td>\n",
       "    </tr>\n",
       "    <tr>\n",
       "      <th>168</th>\n",
       "      <td>Pakistan</td>\n",
       "      <td>Asia</td>\n",
       "      <td>2020-05-26</td>\n",
       "      <td>1356</td>\n",
       "      <td>30</td>\n",
       "      <td>971920</td>\n",
       "      <td>27677</td>\n",
       "    </tr>\n",
       "    <tr>\n",
       "      <th>118</th>\n",
       "      <td>Jordan</td>\n",
       "      <td>Asia</td>\n",
       "      <td>2020-05-26</td>\n",
       "      <td>3</td>\n",
       "      <td>0</td>\n",
       "      <td>971923</td>\n",
       "      <td>27677</td>\n",
       "    </tr>\n",
       "    <tr>\n",
       "      <th>220</th>\n",
       "      <td>Yemen</td>\n",
       "      <td>Asia</td>\n",
       "      <td>2020-05-26</td>\n",
       "      <td>15</td>\n",
       "      <td>3</td>\n",
       "      <td>971938</td>\n",
       "      <td>27680</td>\n",
       "    </tr>\n",
       "  </tbody>\n",
       "</table>\n",
       "</div>"
      ],
      "text/plain": [
       "       country continent       date  cases  deaths  cum_cases  cum_deaths\n",
       "114       Iraq      Asia 2020-05-26    163       3     970564       27647\n",
       "169  Palestine      Asia 2020-05-26      0       0     970564       27647\n",
       "168   Pakistan      Asia 2020-05-26   1356      30     971920       27677\n",
       "118     Jordan      Asia 2020-05-26      3       0     971923       27677\n",
       "220      Yemen      Asia 2020-05-26     15       3     971938       27680"
      ]
     },
     "execution_count": 78,
     "metadata": {},
     "output_type": "execute_result"
    }
   ],
   "source": [
    "df_cum_continent[df_cum_continent['continent'] == \"Asia\"].tail()"
   ]
  },
  {
   "cell_type": "code",
   "execution_count": 79,
   "metadata": {},
   "outputs": [],
   "source": [
    "#Total cases for each continent\n",
    "df_asia = df_cum_continent[df_cum_continent[\"continent\"] == \"Asia\"].groupby(\"date\").max()\n",
    "df_africa = df_cum_continent[df_cum_continent[\"continent\"] == \"Africa\"].groupby(\"date\").max()\n",
    "df_europe = df_cum_continent[df_cum_continent[\"continent\"] == \"Europe\"].groupby(\"date\").max()\n",
    "df_americas = df_cum_continent[df_cum_continent[\"continent\"] == \"Americas\"].groupby(\"date\").max()\n",
    "df_oceania = df_cum_continent[df_cum_continent[\"continent\"] == \"Oceania\"].groupby(\"date\").max()"
   ]
  },
  {
   "cell_type": "code",
   "execution_count": null,
   "metadata": {},
   "outputs": [],
   "source": []
  },
  {
   "cell_type": "code",
   "execution_count": null,
   "metadata": {},
   "outputs": [],
   "source": []
  }
 ],
 "metadata": {
  "kernelspec": {
   "display_name": "Python 3",
   "language": "python",
   "name": "python3"
  },
  "language_info": {
   "codemirror_mode": {
    "name": "ipython",
    "version": 3
   },
   "file_extension": ".py",
   "mimetype": "text/x-python",
   "name": "python",
   "nbconvert_exporter": "python",
   "pygments_lexer": "ipython3",
   "version": "3.7.4"
  }
 },
 "nbformat": 4,
 "nbformat_minor": 4
}
