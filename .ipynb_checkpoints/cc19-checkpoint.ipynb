{
 "cells": [
  {
   "cell_type": "code",
   "execution_count": 5,
   "metadata": {},
   "outputs": [],
   "source": [
    "import numpy as np\n",
    "import datetime\n",
    "import seaborn as sns\n",
    "import matplotlib.pyplot as plt \n",
    "import pandas as pd\n",
    "from scipy import stats\n",
    "\n",
    "import plotly.graph_objects as go\n",
    "sns.set_context('paper', font_scale=1.4)"
   ]
  },
  {
   "cell_type": "code",
   "execution_count": 6,
   "metadata": {},
   "outputs": [
    {
     "name": "stdout",
     "output_type": "stream",
     "text": [
      "17925 rows \n",
      "211 countries\n",
      "from 2019-12-31 00:00:00 to 2020-05-18 00:00:00\n"
     ]
    },
    {
     "data": {
      "text/html": [
       "<div>\n",
       "<style scoped>\n",
       "    .dataframe tbody tr th:only-of-type {\n",
       "        vertical-align: middle;\n",
       "    }\n",
       "\n",
       "    .dataframe tbody tr th {\n",
       "        vertical-align: top;\n",
       "    }\n",
       "\n",
       "    .dataframe thead th {\n",
       "        text-align: right;\n",
       "    }\n",
       "</style>\n",
       "<table border=\"1\" class=\"dataframe\">\n",
       "  <thead>\n",
       "    <tr style=\"text-align: right;\">\n",
       "      <th></th>\n",
       "      <th>date</th>\n",
       "      <th>location</th>\n",
       "      <th>new_cases</th>\n",
       "      <th>new_deaths</th>\n",
       "      <th>total_cases</th>\n",
       "      <th>total_deaths</th>\n",
       "    </tr>\n",
       "  </thead>\n",
       "  <tbody>\n",
       "    <tr>\n",
       "      <th>14529</th>\n",
       "      <td>2020-04-14</td>\n",
       "      <td>Singapore</td>\n",
       "      <td>386</td>\n",
       "      <td>1</td>\n",
       "      <td>2918</td>\n",
       "      <td>9</td>\n",
       "    </tr>\n",
       "    <tr>\n",
       "      <th>555</th>\n",
       "      <td>2020-05-01</td>\n",
       "      <td>Antigua and Barbuda</td>\n",
       "      <td>0</td>\n",
       "      <td>0</td>\n",
       "      <td>24</td>\n",
       "      <td>3</td>\n",
       "    </tr>\n",
       "    <tr>\n",
       "      <th>3489</th>\n",
       "      <td>2020-03-05</td>\n",
       "      <td>China</td>\n",
       "      <td>117</td>\n",
       "      <td>31</td>\n",
       "      <td>80497</td>\n",
       "      <td>3014</td>\n",
       "    </tr>\n",
       "    <tr>\n",
       "      <th>17611</th>\n",
       "      <td>2020-05-04</td>\n",
       "      <td>Western Sahara</td>\n",
       "      <td>0</td>\n",
       "      <td>0</td>\n",
       "      <td>6</td>\n",
       "      <td>0</td>\n",
       "    </tr>\n",
       "    <tr>\n",
       "      <th>15160</th>\n",
       "      <td>2020-03-18</td>\n",
       "      <td>Spain</td>\n",
       "      <td>3694</td>\n",
       "      <td>182</td>\n",
       "      <td>17688</td>\n",
       "      <td>491</td>\n",
       "    </tr>\n",
       "  </tbody>\n",
       "</table>\n",
       "</div>"
      ],
      "text/plain": [
       "            date             location  new_cases  new_deaths  total_cases  \\\n",
       "14529 2020-04-14            Singapore        386           1         2918   \n",
       "555   2020-05-01  Antigua and Barbuda          0           0           24   \n",
       "3489  2020-03-05                China        117          31        80497   \n",
       "17611 2020-05-04       Western Sahara          0           0            6   \n",
       "15160 2020-03-18                Spain       3694         182        17688   \n",
       "\n",
       "       total_deaths  \n",
       "14529             9  \n",
       "555               3  \n",
       "3489           3014  \n",
       "17611             0  \n",
       "15160           491  "
      ]
     },
     "execution_count": 6,
     "metadata": {},
     "output_type": "execute_result"
    }
   ],
   "source": [
    "time_series = pd.read_csv('https://covid.ourworldindata.org/data/ecdc/full_data.csv',\n",
    "                          parse_dates=[0], dtype={'location': 'category'})\n",
    "\n",
    "print(\"{} rows \\n{} countries\\nfrom {} to {}\".format(len(time_series), \n",
    "                                                         time_series['location'].nunique(),\n",
    "                                                         time_series['date'].min(),\n",
    "                                                         time_series['date'].max()))\n",
    "time_series.sample(5)"
   ]
  },
  {
   "cell_type": "code",
   "execution_count": 7,
   "metadata": {},
   "outputs": [
    {
     "data": {
      "text/html": [
       "<div>\n",
       "<style scoped>\n",
       "    .dataframe tbody tr th:only-of-type {\n",
       "        vertical-align: middle;\n",
       "    }\n",
       "\n",
       "    .dataframe tbody tr th {\n",
       "        vertical-align: top;\n",
       "    }\n",
       "\n",
       "    .dataframe thead th {\n",
       "        text-align: right;\n",
       "    }\n",
       "</style>\n",
       "<table border=\"1\" class=\"dataframe\">\n",
       "  <thead>\n",
       "    <tr style=\"text-align: right;\">\n",
       "      <th></th>\n",
       "      <th>location</th>\n",
       "      <th>total_cases</th>\n",
       "      <th>total_deaths</th>\n",
       "    </tr>\n",
       "  </thead>\n",
       "  <tbody>\n",
       "    <tr>\n",
       "      <th>0</th>\n",
       "      <td>Afghanistan</td>\n",
       "      <td>6664</td>\n",
       "      <td>169</td>\n",
       "    </tr>\n",
       "    <tr>\n",
       "      <th>1</th>\n",
       "      <td>Albania</td>\n",
       "      <td>946</td>\n",
       "      <td>31</td>\n",
       "    </tr>\n",
       "    <tr>\n",
       "      <th>2</th>\n",
       "      <td>Algeria</td>\n",
       "      <td>7019</td>\n",
       "      <td>548</td>\n",
       "    </tr>\n",
       "    <tr>\n",
       "      <th>3</th>\n",
       "      <td>Andorra</td>\n",
       "      <td>761</td>\n",
       "      <td>51</td>\n",
       "    </tr>\n",
       "    <tr>\n",
       "      <th>4</th>\n",
       "      <td>Angola</td>\n",
       "      <td>48</td>\n",
       "      <td>2</td>\n",
       "    </tr>\n",
       "  </tbody>\n",
       "</table>\n",
       "</div>"
      ],
      "text/plain": [
       "      location  total_cases  total_deaths\n",
       "0  Afghanistan         6664           169\n",
       "1      Albania          946            31\n",
       "2      Algeria         7019           548\n",
       "3      Andorra          761            51\n",
       "4       Angola           48             2"
      ]
     },
     "execution_count": 7,
     "metadata": {},
     "output_type": "execute_result"
    }
   ],
   "source": [
    "countries = pd.DataFrame(columns=['location', 'total_cases', 'total_deaths'])\n",
    "countries['location'] = time_series['location'].unique()\n",
    "countries['total_cases'] = time_series.groupby('location')['total_cases'].max().values\n",
    "countries['total_deaths'] = time_series.groupby('location')['total_deaths'].max().values\n",
    "countries.head()"
   ]
  },
  {
   "cell_type": "code",
   "execution_count": 8,
   "metadata": {},
   "outputs": [
    {
     "data": {
      "image/png": "[encoded data removed]",
      "text/plain": [
       "<Figure size 432x432 with 1 Axes>"
      ]
     },
     "metadata": {
      "needs_background": "light"
     },
     "output_type": "display_data"
    }
   ],
   "source": [
    "n = 15  # top n\n",
    "\n",
    "## get locations sorted\n",
    "sorted_cases = countries['total_cases'].sort_values(ascending=False)\n",
    "sorted_cases_locs = countries.loc[sorted_cases.index]['location'].values\n",
    "\n",
    "f, ax = plt.subplots(figsize = (6,6))\n",
    "\n",
    "sns.set_color_codes('pastel')\n",
    "sns.barplot(x='total_cases', y='location', data=countries, order=sorted_cases_locs[1:n],\n",
    "           label='total cases', color='b')\n",
    "\n",
    "sns.set_color_codes('muted')\n",
    "sns.barplot(x='total_deaths', y='location', data=countries, order=sorted_cases_locs[1:n],\n",
    "           label='total deaths', color='r')\n",
    "\n",
    "ax.set_xlabel('counts')\n",
    "ax.legend(ncol = 2, loc = 'lower right')\n",
    "sns.despine(left = True, bottom = True)"
   ]
  }
 ],
 "metadata": {
  "kernelspec": {
   "display_name": "Python 3",
   "language": "python",
   "name": "python3"
  },
  "language_info": {
   "codemirror_mode": {
    "name": "ipython",
    "version": 3
   },
   "file_extension": ".py",
   "mimetype": "text/x-python",
   "name": "python",
   "nbconvert_exporter": "python",
   "pygments_lexer": "ipython3",
   "version": "3.7.4"
  }
 },
 "nbformat": 4,
 "nbformat_minor": 4
}
